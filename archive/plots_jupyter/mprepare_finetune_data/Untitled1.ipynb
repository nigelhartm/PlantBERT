{
 "cells": [
  {
   "cell_type": "code",
   "execution_count": 3,
   "id": "6af8952f-41bd-4571-8b64-9b10e4ee8b3a",
   "metadata": {
    "tags": []
   },
   "outputs": [],
   "source": [
    "import pandas as pd"
   ]
  },
  {
   "cell_type": "code",
   "execution_count": 4,
   "id": "52152e40-e28f-46c1-8e01-a27ab69bdaec",
   "metadata": {
    "tags": []
   },
   "outputs": [],
   "source": [
    "df = pd.DataFrame(pd.read_csv(\"GCF_000001735.4_TAIR10.1_genomic.gff\", sep=\"\\t\", skiprows=8))"
   ]
  },
  {
   "cell_type": "code",
   "execution_count": 5,
   "id": "7616de7e-4268-4db2-a15d-7bbf73a40632",
   "metadata": {
    "tags": []
   },
   "outputs": [
    {
     "data": {
      "text/html": [
       "<div>\n",
       "<style scoped>\n",
       "    .dataframe tbody tr th:only-of-type {\n",
       "        vertical-align: middle;\n",
       "    }\n",
       "\n",
       "    .dataframe tbody tr th {\n",
       "        vertical-align: top;\n",
       "    }\n",
       "\n",
       "    .dataframe thead th {\n",
       "        text-align: right;\n",
       "    }\n",
       "</style>\n",
       "<table border=\"1\" class=\"dataframe\">\n",
       "  <thead>\n",
       "    <tr style=\"text-align: right;\">\n",
       "      <th></th>\n",
       "      <th>NC_003070.9</th>\n",
       "      <th>RefSeq</th>\n",
       "      <th>region</th>\n",
       "      <th>1</th>\n",
       "      <th>30427671</th>\n",
       "      <th>.</th>\n",
       "      <th>+</th>\n",
       "      <th>..1</th>\n",
       "      <th>ID=NC_003070.9:1..30427671;Dbxref=taxon:3702;Name=1;chromosome=1;ecotype=Columbia;gbkey=Src;genome=chromosome;mol_type=genomic DNA</th>\n",
       "    </tr>\n",
       "  </thead>\n",
       "  <tbody>\n",
       "    <tr>\n",
       "      <th>0</th>\n",
       "      <td>NC_003070.9</td>\n",
       "      <td>RefSeq</td>\n",
       "      <td>gene</td>\n",
       "      <td>3631.0</td>\n",
       "      <td>5899.0</td>\n",
       "      <td>.</td>\n",
       "      <td>+</td>\n",
       "      <td>.</td>\n",
       "      <td>ID=gene-AT1G01010;Dbxref=Araport:AT1G01010,TAI...</td>\n",
       "    </tr>\n",
       "    <tr>\n",
       "      <th>1</th>\n",
       "      <td>NC_003070.9</td>\n",
       "      <td>RefSeq</td>\n",
       "      <td>mRNA</td>\n",
       "      <td>3631.0</td>\n",
       "      <td>5899.0</td>\n",
       "      <td>.</td>\n",
       "      <td>+</td>\n",
       "      <td>.</td>\n",
       "      <td>ID=rna-NM_099983.2;Parent=gene-AT1G01010;Dbxre...</td>\n",
       "    </tr>\n",
       "    <tr>\n",
       "      <th>2</th>\n",
       "      <td>NC_003070.9</td>\n",
       "      <td>RefSeq</td>\n",
       "      <td>exon</td>\n",
       "      <td>3631.0</td>\n",
       "      <td>3913.0</td>\n",
       "      <td>.</td>\n",
       "      <td>+</td>\n",
       "      <td>.</td>\n",
       "      <td>ID=exon-NM_099983.2-1;Parent=rna-NM_099983.2;D...</td>\n",
       "    </tr>\n",
       "  </tbody>\n",
       "</table>\n",
       "</div>"
      ],
      "text/plain": [
       "   NC_003070.9  RefSeq region       1  30427671  .  + ..1   \n",
       "0  NC_003070.9  RefSeq   gene  3631.0    5899.0  .  +   .  \\\n",
       "1  NC_003070.9  RefSeq   mRNA  3631.0    5899.0  .  +   .   \n",
       "2  NC_003070.9  RefSeq   exon  3631.0    3913.0  .  +   .   \n",
       "\n",
       "  ID=NC_003070.9:1..30427671;Dbxref=taxon:3702;Name=1;chromosome=1;ecotype=Columbia;gbkey=Src;genome=chromosome;mol_type=genomic DNA  \n",
       "0  ID=gene-AT1G01010;Dbxref=Araport:AT1G01010,TAI...                                                                                  \n",
       "1  ID=rna-NM_099983.2;Parent=gene-AT1G01010;Dbxre...                                                                                  \n",
       "2  ID=exon-NM_099983.2-1;Parent=rna-NM_099983.2;D...                                                                                  "
      ]
     },
     "execution_count": 5,
     "metadata": {},
     "output_type": "execute_result"
    }
   ],
   "source": [
    "# Show table head\n",
    "df.iloc[0:3,:]"
   ]
  },
  {
   "cell_type": "code",
   "execution_count": 8,
   "id": "433ad088-6465-4a25-a553-d7da48b8ef26",
   "metadata": {
    "tags": []
   },
   "outputs": [
    {
     "name": "stdout",
     "output_type": "stream",
     "text": [
      "##gff-version 3\n",
      "#!gff-spec-version 1.21\n",
      "#!processor NCBI annotwriter\n",
      "#!genome-build TAIR10.1\n",
      "#!genome-build-accession NCBI_Assembly:GCF_000001735.4\n",
      "#!annotation-source TAIR and Araport \n",
      "##sequence-region NC_003070.9 1 30427671\n",
      "##species https://www.ncbi.nlm.nih.gov/Taxonomy/Browser/wwwtax.cgi?id=3702\n",
      "NC_003070.9\tRefSeq\tregion\t1\t30427671\t.\t+\t.\tID=NC_003070.9:1..30427671;Dbxref=taxon:3702;Name=1;chromosome=1;ecotype=Columbia;gbkey=Src;genome=chromosome;mol_type=genomic DNA\n",
      "NC_003070.9\tRefSeq\tgene\t3631\t5899\t.\t+\t.\tID=gene-AT1G01010;Dbxref=Araport:AT1G01010,TAIR:AT1G01010,GeneID:839580;Name=NAC001;gbkey=Gene;gene=NAC001;gene_biotype=protein_coding;gene_synonym=ANAC001,NAC domain containing protein 1,T25K16.1,T25K16_1;locus_tag=AT1G01010\n",
      "NC_003070.9\tRefSeq\tmRNA\t3631\t5899\t.\t+\t.\tID=rna-NM_099983.2;Parent=gene-AT1G01010;Dbxref=Araport:AT1G01010,TAIR:AT1G01010,GeneID:839580,GenBank:NM_099983.2;Name=NM_099983.2;gbkey=mRNA;gene=NAC001;inference=similar to RNA sequence%2C mRNA:INSD:BT001115.1%2CINSD:AF439834.1%2CINSD:AK226863.1;locus_tag=AT1G01010;orig_protein_id=gnl|JCVI|AT1G01010.1;orig_transcript_id=gnl|JCVI|mRNA.AT1G01010.1;product=NAC domain containing protein 1;transcript_id=NM_099983.2\n",
      "NC_003070.9\tRefSeq\texon\t3631\t3913\t.\t+\t.\tID=exon-NM_099983.2-1;Parent=rna-NM_099983.2;Dbxref=Araport:AT1G01010,TAIR:AT1G01010,GeneID:839580,GenBank:NM_099983.2;gbkey=mRNA;gene=NAC001;inference=similar to RNA sequence%2C mRNA:INSD:BT001115.1%2CINSD:AF439834.1%2CINSD:AK226863.1;locus_tag=AT1G01010;orig_protein_id=gnl|JCVI|AT1G01010.1;orig_transcript_id=gnl|JCVI|mRNA.AT1G01010.1;product=NAC domain containing protein 1;transcript_id=NM_099983.2\n",
      "NC_003070.9\tRefSeq\texon\t3996\t4276\t.\t+\t.\tID=exon-NM_099983.2-2;Parent=rna-NM_099983.2;Dbxref=Araport:AT1G01010,TAIR:AT1G01010,GeneID:839580,GenBank:NM_099983.2;gbkey=mRNA;gene=NAC001;inference=similar to RNA sequence%2C mRNA:INSD:BT001115.1%2CINSD:AF439834.1%2CINSD:AK226863.1;locus_tag=AT1G01010;orig_protein_id=gnl|JCVI|AT1G01010.1;orig_transcript_id=gnl|JCVI|mRNA.AT1G01010.1;product=NAC domain containing protein 1;transcript_id=NM_099983.2\n",
      "NC_003070.9\tRefSeq\texon\t4486\t4605\t.\t+\t.\tID=exon-NM_099983.2-3;Parent=rna-NM_099983.2;Dbxref=Araport:AT1G01010,TAIR:AT1G01010,GeneID:839580,GenBank:NM_099983.2;gbkey=mRNA;gene=NAC001;inference=similar to RNA sequence%2C mRNA:INSD:BT001115.1%2CINSD:AF439834.1%2CINSD:AK226863.1;locus_tag=AT1G01010;orig_protein_id=gnl|JCVI|AT1G01010.1;orig_transcript_id=gnl|JCVI|mRNA.AT1G01010.1;product=NAC domain containing protein 1;transcript_id=NM_099983.2\n",
      "NC_003070.9\tRefSeq\texon\t4706\t5095\t.\t+\t.\tID=exon-NM_099983.2-4;Parent=rna-NM_099983.2;Dbxref=Araport:AT1G01010,TAIR:AT1G01010,GeneID:839580,GenBank:NM_099983.2;gbkey=mRNA;gene=NAC001;inference=similar to RNA sequence%2C mRNA:INSD:BT001115.1%2CINSD:AF439834.1%2CINSD:AK226863.1;locus_tag=AT1G01010;orig_protein_id=gnl|JCVI|AT1G01010.1;orig_transcript_id=gnl|JCVI|mRNA.AT1G01010.1;product=NAC domain containing protein 1;transcript_id=NM_099983.2\n",
      "NC_003070.9\tRefSeq\texon\t5174\t5326\t.\t+\t.\tID=exon-NM_099983.2-5;Parent=rna-NM_099983.2;Dbxref=Araport:AT1G01010,TAIR:AT1G01010,GeneID:839580,GenBank:NM_099983.2;gbkey=mRNA;gene=NAC001;inference=similar to RNA sequence%2C mRNA:INSD:BT001115.1%2CINSD:AF439834.1%2CINSD:AK226863.1;locus_tag=AT1G01010;orig_protein_id=gnl|JCVI|AT1G01010.1;orig_transcript_id=gnl|JCVI|mRNA.AT1G01010.1;product=NAC domain containing protein 1;transcript_id=NM_099983.2\n",
      "NC_003070.9\tRefSeq\texon\t5439\t5899\t.\t+\t.\tID=exon-NM_099983.2-6;Parent=rna-NM_099983.2;Dbxref=Araport:AT1G01010,TAIR:AT1G01010,GeneID:839580,GenBank:NM_099983.2;gbkey=mRNA;gene=NAC001;inference=similar to RNA sequence%2C mRNA:INSD:BT001115.1%2CINSD:AF439834.1%2CINSD:AK226863.1;locus_tag=AT1G01010;orig_protein_id=gnl|JCVI|AT1G01010.1;orig_transcript_id=gnl|JCVI|mRNA.AT1G01010.1;product=NAC domain containing protein 1;transcript_id=NM_099983.2\n",
      "NC_003070.9\tRefSeq\tCDS\t3760\t3913\t.\t+\t0\tID=cds-NP_171609.1;Parent=rna-NM_099983.2;Dbxref=Araport:AT1G01010,TAIR:AT1G01010,GeneID:839580,GenBank:NP_171609.1;Name=NP_171609.1;Note=NAC domain containing protein 1 (NAC001)%3B FUNCTIONS IN: sequence-specific DNA binding transcription factor activity%3B INVOLVED IN: multicellular organismal development%2C regulation of transcription%3B LOCATED IN: cellular_component unknown%3B EXPRESSED IN: 7 plant structures%3B EXPRESSED DURING: 4 anthesis%2C C globular stage%2C petal differentiation and expansion stage%3B CONTAINS InterPro DOMAIN/s: No apical meristem (NAM) protein (InterPro:IPR003441)%3B BEST Arabidopsis thaliana protein match is: NAC domain containing protein 69 (TAIR:AT4G01550.1)%3B Has 2503 Blast hits to 2496 proteins in 69 species: Archae - 0%3B Bacteria - 0%3B Metazoa - 0%3B Fungi - 0%3B Plants - 2502%3B Viruses - 0%3B Other Eukaryotes - 1 (source: NCBI BLink).;gbkey=CDS;gene=NAC001;inference=similar to RNA sequence%2C mRNA:INSD:BT001115.1%2CINSD:AF439834.1%2CINSD:AK226863.1;locus_tag=AT1G01010;orig_transcript_id=gnl|JCVI|mRNA.AT1G01010.1;product=NAC domain containing protein 1;protein_id=NP_171609.1\n",
      "NC_003070.9\tRefSeq\tCDS\t3996\t4276\t.\t+\t2\tID=cds-NP_171609.1;Parent=rna-NM_099983.2;Dbxref=Araport:AT1G01010,TAIR:AT1G01010,GeneID:839580,GenBank:NP_171609.1;Name=NP_171609.1;Note=NAC domain containing protein 1 (NAC001)%3B FUNCTIONS IN: sequence-specific DNA binding transcription factor activity%3B INVOLVED IN: multicellular organismal development%2C regulation of transcription%3B LOCATED IN: cellular_component unknown%3B EXPRESSED IN: 7 plant structures%3B EXPRESSED DURING: 4 anthesis%2C C globular stage%2C petal differentiation and expansion stage%3B CONTAINS InterPro DOMAIN/s: No apical meristem (NAM) protein (InterPro:IPR003441)%3B BEST Arabidopsis thaliana protein match is: NAC domain containing protein 69 (TAIR:AT4G01550.1)%3B Has 2503 Blast hits to 2496 proteins in 69 species: Archae - 0%3B Bacteria - 0%3B Metazoa - 0%3B Fungi - 0%3B Plants - 2502%3B Viruses - 0%3B Other Eukaryotes - 1 (source: NCBI BLink).;gbkey=CDS;gene=NAC001;inference=similar to RNA sequence%2C mRNA:INSD:BT001115.1%2CINSD:AF439834.1%2CINSD:AK226863.1;locus_tag=AT1G01010;orig_transcript_id=gnl|JCVI|mRNA.AT1G01010.1;product=NAC domain containing protein 1;protein_id=NP_171609.1\n",
      "NC_003070.9\tRefSeq\tCDS\t4486\t4605\t.\t+\t0\tID=cds-NP_171609.1;Parent=rna-NM_099983.2;Dbxref=Araport:AT1G01010,TAIR:AT1G01010,GeneID:839580,GenBank:NP_171609.1;Name=NP_171609.1;Note=NAC domain containing protein 1 (NAC001)%3B FUNCTIONS IN: sequence-specific DNA binding transcription factor activity%3B INVOLVED IN: multicellular organismal development%2C regulation of transcription%3B LOCATED IN: cellular_component unknown%3B EXPRESSED IN: 7 plant structures%3B EXPRESSED DURING: 4 anthesis%2C C globular stage%2C petal differentiation and expansion stage%3B CONTAINS InterPro DOMAIN/s: No apical meristem (NAM) protein (InterPro:IPR003441)%3B BEST Arabidopsis thaliana protein match is: NAC domain containing protein 69 (TAIR:AT4G01550.1)%3B Has 2503 Blast hits to 2496 proteins in 69 species: Archae - 0%3B Bacteria - 0%3B Metazoa - 0%3B Fungi - 0%3B Plants - 2502%3B Viruses - 0%3B Other Eukaryotes - 1 (source: NCBI BLink).;gbkey=CDS;gene=NAC001;inference=similar to RNA sequence%2C mRNA:INSD:BT001115.1%2CINSD:AF439834.1%2CINSD:AK226863.1;locus_tag=AT1G01010;orig_transcript_id=gnl|JCVI|mRNA.AT1G01010.1;product=NAC domain containing protein 1;protein_id=NP_171609.1\n"
     ]
    }
   ],
   "source": [
    "!head -20 GCF_000001735.4_TAIR10.1_genomic.gff"
   ]
  },
  {
   "cell_type": "code",
   "execution_count": null,
   "id": "274719cc-2d66-42a0-8085-2b265b47df92",
   "metadata": {},
   "outputs": [],
   "source": []
  }
 ],
 "metadata": {
  "kernelspec": {
   "display_name": "Python 3 (ipykernel)",
   "language": "python",
   "name": "python3"
  },
  "language_info": {
   "codemirror_mode": {
    "name": "ipython",
    "version": 3
   },
   "file_extension": ".py",
   "mimetype": "text/x-python",
   "name": "python",
   "nbconvert_exporter": "python",
   "pygments_lexer": "ipython3",
   "version": "3.10.10"
  }
 },
 "nbformat": 4,
 "nbformat_minor": 5
}
