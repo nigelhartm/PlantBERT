{
 "cells": [
  {
   "cell_type": "code",
   "execution_count": 4,
   "id": "1cd0536f-ac9e-436d-9686-bfb2b0648b71",
   "metadata": {
    "tags": []
   },
   "outputs": [],
   "source": [
    "import pandas as pd"
   ]
  },
  {
   "cell_type": "code",
   "execution_count": 9,
   "id": "974cead0-1a04-4d89-bcef-f5a34006c973",
   "metadata": {
    "tags": []
   },
   "outputs": [],
   "source": [
    "df = pd.DataFrame(pandas.read_csv(\"GCF_000001735.4_TAIR10.1_genomic.gff\", sep=\"\\t\", skiprows=8))"
   ]
  },
  {
   "cell_type": "code",
   "execution_count": 10,
   "id": "d4a65368-813f-4441-aaa0-b2388e13acc8",
   "metadata": {
    "tags": []
   },
   "outputs": [
    {
     "data": {
      "text/html": [
       "<div>\n",
       "<style scoped>\n",
       "    .dataframe tbody tr th:only-of-type {\n",
       "        vertical-align: middle;\n",
       "    }\n",
       "\n",
       "    .dataframe tbody tr th {\n",
       "        vertical-align: top;\n",
       "    }\n",
       "\n",
       "    .dataframe thead th {\n",
       "        text-align: right;\n",
       "    }\n",
       "</style>\n",
       "<table border=\"1\" class=\"dataframe\">\n",
       "  <thead>\n",
       "    <tr style=\"text-align: right;\">\n",
       "      <th></th>\n",
       "      <th>NC_003070.9</th>\n",
       "      <th>RefSeq</th>\n",
       "      <th>region</th>\n",
       "      <th>1</th>\n",
       "      <th>30427671</th>\n",
       "      <th>.</th>\n",
       "      <th>+</th>\n",
       "      <th>..1</th>\n",
       "      <th>ID=NC_003070.9:1..30427671;Dbxref=taxon:3702;Name=1;chromosome=1;ecotype=Columbia;gbkey=Src;genome=chromosome;mol_type=genomic DNA</th>\n",
       "    </tr>\n",
       "  </thead>\n",
       "  <tbody>\n",
       "    <tr>\n",
       "      <th>0</th>\n",
       "      <td>NC_003070.9</td>\n",
       "      <td>RefSeq</td>\n",
       "      <td>gene</td>\n",
       "      <td>3631.0</td>\n",
       "      <td>5899.0</td>\n",
       "      <td>.</td>\n",
       "      <td>+</td>\n",
       "      <td>.</td>\n",
       "      <td>ID=gene-AT1G01010;Dbxref=Araport:AT1G01010,TAI...</td>\n",
       "    </tr>\n",
       "    <tr>\n",
       "      <th>1</th>\n",
       "      <td>NC_003070.9</td>\n",
       "      <td>RefSeq</td>\n",
       "      <td>mRNA</td>\n",
       "      <td>3631.0</td>\n",
       "      <td>5899.0</td>\n",
       "      <td>.</td>\n",
       "      <td>+</td>\n",
       "      <td>.</td>\n",
       "      <td>ID=rna-NM_099983.2;Parent=gene-AT1G01010;Dbxre...</td>\n",
       "    </tr>\n",
       "    <tr>\n",
       "      <th>2</th>\n",
       "      <td>NC_003070.9</td>\n",
       "      <td>RefSeq</td>\n",
       "      <td>exon</td>\n",
       "      <td>3631.0</td>\n",
       "      <td>3913.0</td>\n",
       "      <td>.</td>\n",
       "      <td>+</td>\n",
       "      <td>.</td>\n",
       "      <td>ID=exon-NM_099983.2-1;Parent=rna-NM_099983.2;D...</td>\n",
       "    </tr>\n",
       "  </tbody>\n",
       "</table>\n",
       "</div>"
      ],
      "text/plain": [
       "   NC_003070.9  RefSeq region       1  30427671  .  + ..1   \n",
       "0  NC_003070.9  RefSeq   gene  3631.0    5899.0  .  +   .  \\\n",
       "1  NC_003070.9  RefSeq   mRNA  3631.0    5899.0  .  +   .   \n",
       "2  NC_003070.9  RefSeq   exon  3631.0    3913.0  .  +   .   \n",
       "\n",
       "  ID=NC_003070.9:1..30427671;Dbxref=taxon:3702;Name=1;chromosome=1;ecotype=Columbia;gbkey=Src;genome=chromosome;mol_type=genomic DNA  \n",
       "0  ID=gene-AT1G01010;Dbxref=Araport:AT1G01010,TAI...                                                                                  \n",
       "1  ID=rna-NM_099983.2;Parent=gene-AT1G01010;Dbxre...                                                                                  \n",
       "2  ID=exon-NM_099983.2-1;Parent=rna-NM_099983.2;D...                                                                                  "
      ]
     },
     "execution_count": 10,
     "metadata": {},
     "output_type": "execute_result"
    }
   ],
   "source": [
    "# Show table head\n",
    "df.iloc[0:3,:]"
   ]
  },
  {
   "cell_type": "code",
   "execution_count": 12,
   "id": "b734b67e-d629-41af-9e80-88d9f3f55d0a",
   "metadata": {
    "tags": []
   },
   "outputs": [
    {
     "data": {
      "text/plain": [
       "array(['gene', 'mRNA', 'exon', 'CDS', 'lnc_RNA', 'primary_transcript',\n",
       "       'miRNA', 'transcript', 'tRNA', 'antisense_RNA', 'pseudogene',\n",
       "       'snoRNA', 'sequence_feature', 'ncRNA', 'snRNA', nan, 'region',\n",
       "       'rRNA', 'direct_repeat', 'repeat_region', 'five_prime_UTR',\n",
       "       'inverted_repeat', 'three_prime_UTR'], dtype=object)"
      ]
     },
     "execution_count": 12,
     "metadata": {},
     "output_type": "execute_result"
    }
   ],
   "source": [
    "# Unique values\n",
    "df['region'].unique()"
   ]
  },
  {
   "cell_type": "code",
   "execution_count": null,
   "id": "13ed7ed1-3813-4bb2-b512-37c572542684",
   "metadata": {},
   "outputs": [],
   "source": []
  }
 ],
 "metadata": {
  "kernelspec": {
   "display_name": "Python 3 (ipykernel)",
   "language": "python",
   "name": "python3"
  },
  "language_info": {
   "codemirror_mode": {
    "name": "ipython",
    "version": 3
   },
   "file_extension": ".py",
   "mimetype": "text/x-python",
   "name": "python",
   "nbconvert_exporter": "python",
   "pygments_lexer": "ipython3",
   "version": "3.10.10"
  }
 },
 "nbformat": 4,
 "nbformat_minor": 5
}
