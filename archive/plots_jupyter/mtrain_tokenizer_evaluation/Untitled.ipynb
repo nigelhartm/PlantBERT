{
 "cells": [
  {
   "cell_type": "code",
   "execution_count": 1,
   "id": "88b33fc9-f95d-42f2-9456-facb95b4cf7a",
   "metadata": {
    "tags": []
   },
   "outputs": [],
   "source": [
    "#TEST"
   ]
  },
  {
   "cell_type": "code",
   "execution_count": null,
   "id": "8bda373f-f447-400e-b4c7-f17f3f3fdee8",
   "metadata": {},
   "outputs": [],
   "source": []
  }
 ],
 "metadata": {
  "kernelspec": {
   "display_name": "Python 3 (ipykernel)",
   "language": "python",
   "name": "python3"
  },
  "language_info": {
   "codemirror_mode": {
    "name": "ipython",
    "version": 3
   },
   "file_extension": ".py",
   "mimetype": "text/x-python",
   "name": "python",
   "nbconvert_exporter": "python",
   "pygments_lexer": "ipython3",
   "version": "3.10.10"
  }
 },
 "nbformat": 4,
 "nbformat_minor": 5
}
