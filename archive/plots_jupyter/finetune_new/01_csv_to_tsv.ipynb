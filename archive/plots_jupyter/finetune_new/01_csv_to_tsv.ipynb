{
 "cells": [
  {
   "cell_type": "code",
   "execution_count": 13,
   "id": "4642bc38-71f9-449a-bd48-161f9c49188c",
   "metadata": {
    "tags": []
   },
   "outputs": [
    {
     "name": "stdout",
     "output_type": "stream",
     "text": [
      "7822\n",
      "7621\n",
      "15442\n"
     ]
    }
   ],
   "source": [
    "import random\n",
    "\n",
    "input = open(\"train.csv\", \"r\")\n",
    "output = open(\"finetune_all_gue.tsv\", \"w\")\n",
    "input.readline()\n",
    "line = input.readline()\n",
    "cnt=0\n",
    "balance_0 = 0\n",
    "balance_1 = 1\n",
    "while line:\n",
    "    if cnt > 15441:\n",
    "        break\n",
    "    cnt += 1\n",
    "    buf = line.replace(\"\\n\", \"\").split(\",\")\n",
    "    r = random.randint(0, 49)\n",
    "    output.write(str(buf[0])[0+r:250+r] + \"\\t\" + str(buf[1]) + \"\\n\")\n",
    "    if int(buf[1]) == 0:\n",
    "        balance_0 += 1\n",
    "    else:\n",
    "        balance_1 += 1\n",
    "    line = input.readline()\n",
    "print(balance_0)\n",
    "print(balance_1)\n",
    "print(cnt)\n",
    "input.close()\n",
    "output.close()"
   ]
  },
  {
   "cell_type": "code",
   "execution_count": null,
   "id": "d146e138-aa5f-4f87-8e79-7e743ddab0d4",
   "metadata": {},
   "outputs": [],
   "source": []
  }
 ],
 "metadata": {
  "kernelspec": {
   "display_name": "Python 3 (ipykernel)",
   "language": "python",
   "name": "python3"
  },
  "language_info": {
   "codemirror_mode": {
    "name": "ipython",
    "version": 3
   },
   "file_extension": ".py",
   "mimetype": "text/x-python",
   "name": "python",
   "nbconvert_exporter": "python",
   "pygments_lexer": "ipython3",
   "version": "3.10.10"
  }
 },
 "nbformat": 4,
 "nbformat_minor": 5
}
