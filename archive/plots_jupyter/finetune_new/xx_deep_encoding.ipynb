{
 "cells": [
  {
   "cell_type": "code",
   "execution_count": 3,
   "id": "6900825f-ca2b-4df5-8359-137abea19b2b",
   "metadata": {
    "tags": []
   },
   "outputs": [],
   "source": [
    "input = open(\"finetune_all.tsv\", \"r\")\n",
    "output = open(\"finetune_all_xx.csv\", \"w\")\n",
    "line = input.readline()\n",
    "while line:\n",
    "    line = line.replace(\"\\n\", \"\")\n",
    "    seq = line.split(\"\\t\")[0]\n",
    "    clas = line.split(\"\\t\")[1]\n",
    "    for i in range(0, len(seq)):\n",
    "        if seq[i] == \"A\":\n",
    "            output.write(\"1,0,0,0,\")\n",
    "        elif seq[i] == \"C\":\n",
    "            output.write(\"0,1,0,0,\")\n",
    "        elif seq[i] == \"T\":\n",
    "            output.write(\"0,0,1,0,\")\n",
    "        else:\n",
    "            output.write(\"0,0,0,1,\")\n",
    "    output.write(str(clas) + \"\\n\")\n",
    "    line = input.readline()\n",
    "input.close()\n",
    "output.close()"
   ]
  }
 ],
 "metadata": {
  "kernelspec": {
   "display_name": "Python 3 (ipykernel)",
   "language": "python",
   "name": "python3"
  },
  "language_info": {
   "codemirror_mode": {
    "name": "ipython",
    "version": 3
   },
   "file_extension": ".py",
   "mimetype": "text/x-python",
   "name": "python",
   "nbconvert_exporter": "python",
   "pygments_lexer": "ipython3",
   "version": "3.10.10"
  }
 },
 "nbformat": 4,
 "nbformat_minor": 5
}
