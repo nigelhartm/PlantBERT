{
 "cells": [
  {
   "cell_type": "code",
   "execution_count": 1,
   "id": "1a6e7f3f-e628-4f25-b221-3cb49faa2764",
   "metadata": {
    "tags": []
   },
   "outputs": [],
   "source": [
    "## DOWNLOAD DATA\n",
    "\n",
    "# Mapped - Arabidopsis - All\n",
    "!wget -q http://www.softberry.com/data/plantprom/Links/PLPR_predicted_ATceres.seq\n",
    "# Mapped - Arabidopsis - TATA less\n",
    "#!wget -q http://www.softberry.com/data/plantprom/Links/PLPR_predicted_ATceres_TATAless.seq\n",
    "# Mapped - Arabidopsis - TATA\n",
    "#!wget -q http://www.softberry.com/data/plantprom/Links/PLPR_predicted_ATceres_TATA.seq\n",
    "# Mapped - Oryza - All\n",
    "!wget -q http://www.softberry.com/data/plantprom/Links/PLPR_predicted_OS.seq\n",
    "# Mapped - Oryza - TATA less\n",
    "#!wget -q http://www.softberry.com/data/plantprom/Links/PLPR_predicted_OS_TATAless.seq\n",
    "# Mapped - Oryza - TATA\n",
    "#!wget -q http://www.softberry.com/data/plantprom/Links/PLPR_predicted_OS_TATA.seq"
   ]
  },
  {
   "cell_type": "code",
   "execution_count": 1,
   "id": "16a30552-3547-4295-bfd8-11fb7100ec5c",
   "metadata": {
    "tags": []
   },
   "outputs": [],
   "source": [
    "import re\n",
    "import random\n",
    "\n",
    "def create_negative(positive):\n",
    "    negative = positive\n",
    "    negative = re.findall('.{1,10}', negative)\n",
    "    # keep 40% = 10 [0] in place and shuffle 60% = 15 [1]\n",
    "    nums = 15 * [1] + 10 * [0]\n",
    "    random.shuffle(nums)\n",
    "    shuffle_seq = []\n",
    "    for i in range(0, len(negative)):\n",
    "        if nums[i] == 1:\n",
    "            shuffle_seq.append(negative[i])\n",
    "            negative[i] = \"\"\n",
    "    random.shuffle(shuffle_seq)\n",
    "    for i in range(0, len(negative)):\n",
    "        if nums[i] == 1:\n",
    "            negative[i] = shuffle_seq.pop()\n",
    "    return ''.join(negative)"
   ]
  },
  {
   "cell_type": "code",
   "execution_count": 4,
   "id": "f1711bcf-e195-41d6-9ee1-999b4cfc25e4",
   "metadata": {},
   "outputs": [
    {
     "name": "stdout",
     "output_type": "stream",
     "text": [
      "Succesful loaded MODE 2\n",
      "DONE\n",
      "Sequences = 6513 . . . classes are doubled (+negative dataset)\n"
     ]
    }
   ],
   "source": [
    "## PARAMETER SET MODE manually\n",
    "MODE = 0\n",
    "# PLANTS\n",
    "## 0 = all, 1 = tata, 2 = no tata\n",
    "# HUMAN\n",
    "## \n",
    "\n",
    "# open files\n",
    "url_input = []\n",
    "output = None\n",
    "\n",
    "if MODE == 0:\n",
    "    url_input = [\"PLPR_predicted_ATceres.seq\", \"PLPR_predicted_OS.seq\"]\n",
    "    output = open(\"finetune_all.tsv\", \"w\")\n",
    "elif MODE == 1:\n",
    "    url_input = [\"PLPR_predicted_ATceres_TATA.seq\", \"PLPR_predicted_OS_TATA.seq\"]\n",
    "    output = open(\"finetune_tata.tsv\", \"w\")\n",
    "elif MODE == 2:\n",
    "    url_input = [\"PLPR_predicted_ATceres_TATAless.seq\", \"PLPR_predicted_OS_TATAless.seq\"]\n",
    "    output = open(\"finetune_no_tata.tsv\", \"w\")\n",
    "\n",
    "files_input = []\n",
    "for url in url_input:\n",
    "    files_input.append(open(url, \"r\"))\n",
    "\n",
    "if output == None:\n",
    "    print(\"Not valid MODE selected\")\n",
    "else:\n",
    "    print(\"Succesful loaded MODE \" + str(MODE))\n",
    "\n",
    "N_SEQ = 0\n",
    "# for each file\n",
    "for input in files_input:\n",
    "    buf_seq = \"\"\n",
    "    # ignore 2 lines\n",
    "    input.readline()\n",
    "    input.readline()\n",
    "    # get line\n",
    "    line = input.readline()\n",
    "    while line:\n",
    "        if line.startswith(\">\"):\n",
    "            if buf_seq != \"\":\n",
    "                N_SEQ += 1\n",
    "                output.write(buf_seq[0:250] + \"\\t1\\n\")\n",
    "                output.write(create_negative(buf_seq[0:250]) + \"\\t0\\n\")\n",
    "            buf_seq = \"\"\n",
    "        else:\n",
    "            buf_seq = buf_seq + line.replace(\"\\n\", \"\").upper()\n",
    "        line = input.readline()\n",
    "# close files\n",
    "for file in files_input:\n",
    "    file.close()\n",
    "files_input.clear()\n",
    "output.close()\n",
    "\n",
    "print(\"DONE\")\n",
    "print(\"Sequences = \" + str(N_SEQ) + \" . . . classes are doubled (+negative dataset)\")"
   ]
  },
  {
   "cell_type": "code",
   "execution_count": 19,
   "id": "5176f55a-5362-4be3-bec6-f6dabe8e655b",
   "metadata": {
    "tags": []
   },
   "outputs": [],
   "source": []
  },
  {
   "cell_type": "code",
   "execution_count": null,
   "id": "a1ea313f-f82c-4d4a-a514-2a216c89334c",
   "metadata": {},
   "outputs": [],
   "source": []
  }
 ],
 "metadata": {
  "kernelspec": {
   "display_name": "Python 3 (ipykernel)",
   "language": "python",
   "name": "python3"
  },
  "language_info": {
   "codemirror_mode": {
    "name": "ipython",
    "version": 3
   },
   "file_extension": ".py",
   "mimetype": "text/x-python",
   "name": "python",
   "nbconvert_exporter": "python",
   "pygments_lexer": "ipython3",
   "version": "3.10.10"
  }
 },
 "nbformat": 4,
 "nbformat_minor": 5
}
