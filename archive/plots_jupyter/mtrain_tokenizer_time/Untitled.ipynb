{
 "cells": [
  {
   "cell_type": "code",
   "execution_count": 53,
   "id": "6a36b564-f6f1-4b68-9f96-e0340f9f4dcb",
   "metadata": {
    "tags": []
   },
   "outputs": [],
   "source": [
    "import pandas as pd\n",
    "import matplotlib.pyplot as plt\n",
    "import numpy as np"
   ]
  },
  {
   "cell_type": "code",
   "execution_count": 47,
   "id": "0c270505-d97d-4205-abc5-644518b4010c",
   "metadata": {
    "tags": []
   },
   "outputs": [
    {
     "data": {
      "text/html": [
       "<div>\n",
       "<style scoped>\n",
       "    .dataframe tbody tr th:only-of-type {\n",
       "        vertical-align: middle;\n",
       "    }\n",
       "\n",
       "    .dataframe tbody tr th {\n",
       "        vertical-align: top;\n",
       "    }\n",
       "\n",
       "    .dataframe thead th {\n",
       "        text-align: right;\n",
       "    }\n",
       "</style>\n",
       "<table border=\"1\" class=\"dataframe\">\n",
       "  <thead>\n",
       "    <tr style=\"text-align: right;\">\n",
       "      <th></th>\n",
       "      <th>tokenizer_lines</th>\n",
       "      <th>duration</th>\n",
       "    </tr>\n",
       "  </thead>\n",
       "  <tbody>\n",
       "    <tr>\n",
       "      <th>0</th>\n",
       "      <td>1</td>\n",
       "      <td>1</td>\n",
       "    </tr>\n",
       "    <tr>\n",
       "      <th>1</th>\n",
       "      <td>2</td>\n",
       "      <td>2</td>\n",
       "    </tr>\n",
       "    <tr>\n",
       "      <th>2</th>\n",
       "      <td>3</td>\n",
       "      <td>3</td>\n",
       "    </tr>\n",
       "    <tr>\n",
       "      <th>3</th>\n",
       "      <td>4</td>\n",
       "      <td>4</td>\n",
       "    </tr>\n",
       "    <tr>\n",
       "      <th>4</th>\n",
       "      <td>5</td>\n",
       "      <td>5</td>\n",
       "    </tr>\n",
       "    <tr>\n",
       "      <th>5</th>\n",
       "      <td>6</td>\n",
       "      <td>7</td>\n",
       "    </tr>\n",
       "    <tr>\n",
       "      <th>6</th>\n",
       "      <td>7</td>\n",
       "      <td>8</td>\n",
       "    </tr>\n",
       "    <tr>\n",
       "      <th>7</th>\n",
       "      <td>8</td>\n",
       "      <td>9</td>\n",
       "    </tr>\n",
       "    <tr>\n",
       "      <th>8</th>\n",
       "      <td>9</td>\n",
       "      <td>11</td>\n",
       "    </tr>\n",
       "    <tr>\n",
       "      <th>9</th>\n",
       "      <td>10</td>\n",
       "      <td>12</td>\n",
       "    </tr>\n",
       "    <tr>\n",
       "      <th>10</th>\n",
       "      <td>11</td>\n",
       "      <td>13</td>\n",
       "    </tr>\n",
       "    <tr>\n",
       "      <th>11</th>\n",
       "      <td>12</td>\n",
       "      <td>14</td>\n",
       "    </tr>\n",
       "    <tr>\n",
       "      <th>12</th>\n",
       "      <td>13</td>\n",
       "      <td>16</td>\n",
       "    </tr>\n",
       "    <tr>\n",
       "      <th>13</th>\n",
       "      <td>14</td>\n",
       "      <td>18</td>\n",
       "    </tr>\n",
       "    <tr>\n",
       "      <th>14</th>\n",
       "      <td>15</td>\n",
       "      <td>20</td>\n",
       "    </tr>\n",
       "  </tbody>\n",
       "</table>\n",
       "</div>"
      ],
      "text/plain": [
       "    tokenizer_lines  duration\n",
       "0                 1         1\n",
       "1                 2         2\n",
       "2                 3         3\n",
       "3                 4         4\n",
       "4                 5         5\n",
       "5                 6         7\n",
       "6                 7         8\n",
       "7                 8         9\n",
       "8                 9        11\n",
       "9                10        12\n",
       "10               11        13\n",
       "11               12        14\n",
       "12               13        16\n",
       "13               14        18\n",
       "14               15        20"
      ]
     },
     "execution_count": 47,
     "metadata": {},
     "output_type": "execute_result"
    }
   ],
   "source": [
    "df = pd.DataFrame(pd.read_csv(\"03_train_tokenizers_stats.csv\", sep=\",\", skiprows=0))\n",
    "df = df.drop('start_time', axis=1)\n",
    "df = df.drop('end_time', axis=1)\n",
    "df[\"duration\"] = df[\"duration\"].apply(lambda x: int(str(x).split(\":\")[0])*60+int(str(x).split(\":\")[1])+1)\n",
    "df[\"tokenizer_lines\"] = df[\"tokenizer_lines\"].apply(lambda x: int(int(x)/100000))\n",
    "df"
   ]
  },
  {
   "cell_type": "code",
   "execution_count": 67,
   "id": "129b46dc-45ab-46cc-95dd-d29b958b8b41",
   "metadata": {
    "tags": []
   },
   "outputs": [
    {
     "data": {
      "image/png": "[encoded data removed]",
      "text/plain": [
       "<Figure size 640x480 with 1 Axes>"
      ]
     },
     "metadata": {},
     "output_type": "display_data"
    }
   ],
   "source": [
    "m = 20/15\n",
    "pointbag_x = range(16, 100)\n",
    "pointbag_y = []\n",
    "for x in pointbag_x:\n",
    "    pointbag_y.append(x*m)\n",
    "plt.plot(pointbag_x, pointbag_y, label = \"Expected\",linewidth=1.0, color=\"silver\", linestyle=\"\", marker=\"o\", markersize=2.5)\n",
    "plt.plot(df[\"tokenizer_lines\"], df[\"duration\"],linestyle=\"\",marker=\"o\", markersize=2.5, label=\"Measured\", color=\"red\")\n",
    "plt.ylim(0, 1000)\n",
    "plt.xlim(0,100)\n",
    "plt.legend()\n",
    "plt.gca().spines['right'].set_color('none')\n",
    "plt.gca().spines['top'].set_color('none')\n",
    "plt.title(\"Training tokenizer on varying subset size\")\n",
    "plt.suptitle('Activation functions')\n",
    "plt.xlabel(\"Trained on rows [*100 000]\")\n",
    "plt.ylabel(\"Time [min]\")\n",
    "plt.legend(loc=\"upper left\")\n",
    "plt.savefig('plot_tokenizer_ram.png', dpi=250)\n",
    "plt.show()\n",
    "plt.close()\n"
   ]
  },
  {
   "cell_type": "code",
   "execution_count": null,
   "id": "ba3e2700-e157-4c4b-aeb5-c0927d2766a5",
   "metadata": {},
   "outputs": [],
   "source": []
  }
 ],
 "metadata": {
  "kernelspec": {
   "display_name": "Python 3 (ipykernel)",
   "language": "python",
   "name": "python3"
  },
  "language_info": {
   "codemirror_mode": {
    "name": "ipython",
    "version": 3
   },
   "file_extension": ".py",
   "mimetype": "text/x-python",
   "name": "python",
   "nbconvert_exporter": "python",
   "pygments_lexer": "ipython3",
   "version": "3.10.10"
  }
 },
 "nbformat": 4,
 "nbformat_minor": 5
}
