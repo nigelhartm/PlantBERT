{
 "cells": [
  {
   "cell_type": "code",
   "execution_count": 3,
   "id": "8b786f17-642e-474d-b822-c0203d1711c6",
   "metadata": {
    "tags": []
   },
   "outputs": [
    {
     "ename": "TypeError",
     "evalue": "barh() got multiple values for argument 'width'",
     "output_type": "error",
     "traceback": [
      "\u001b[0;31m---------------------------------------------------------------------------\u001b[0m",
      "\u001b[0;31mTypeError\u001b[0m                                 Traceback (most recent call last)",
      "Cell \u001b[0;32mIn[3], line 10\u001b[0m\n\u001b[1;32m      7\u001b[0m y_pos \u001b[38;5;241m=\u001b[39m np\u001b[38;5;241m.\u001b[39marange(\u001b[38;5;28mlen\u001b[39m(people))\n\u001b[1;32m      8\u001b[0m performance \u001b[38;5;241m=\u001b[39m [\u001b[38;5;241m0.30\u001b[39m,\u001b[38;5;241m0.05\u001b[39m]\n\u001b[0;32m---> 10\u001b[0m \u001b[43mplt\u001b[49m\u001b[38;5;241;43m.\u001b[39;49m\u001b[43mbarh\u001b[49m\u001b[43m(\u001b[49m\u001b[43my_pos\u001b[49m\u001b[43m,\u001b[49m\u001b[43m \u001b[49m\u001b[43mperformance\u001b[49m\u001b[43m,\u001b[49m\u001b[43m \u001b[49m\u001b[43mcolor\u001b[49m\u001b[38;5;241;43m=\u001b[39;49m\u001b[38;5;124;43m\"\u001b[39;49m\u001b[38;5;124;43mgreen\u001b[39;49m\u001b[38;5;124;43m\"\u001b[39;49m\u001b[43m,\u001b[49m\u001b[43mwidth\u001b[49m\u001b[43m \u001b[49m\u001b[38;5;241;43m=\u001b[39;49m\u001b[43m \u001b[49m\u001b[38;5;241;43m0.6\u001b[39;49m\u001b[43m)\u001b[49m\n\u001b[1;32m     11\u001b[0m plt\u001b[38;5;241m.\u001b[39myticks(y_pos, labels\u001b[38;5;241m=\u001b[39mpeople)\n\u001b[1;32m     12\u001b[0m plt\u001b[38;5;241m.\u001b[39mxlabel(\u001b[38;5;124m'\u001b[39m\u001b[38;5;124m<MASK> prediction accuracy\u001b[39m\u001b[38;5;124m'\u001b[39m)\n",
      "\u001b[0;31mTypeError\u001b[0m: barh() got multiple values for argument 'width'"
     ]
    },
    {
     "data": {
      "image/png": "[encoded data removed]",
      "text/plain": [
       "<Figure size 1200x300 with 1 Axes>"
      ]
     },
     "metadata": {},
     "output_type": "display_data"
    }
   ],
   "source": [
    "import matplotlib.pyplot as plt\n",
    "import numpy as np\n",
    "plt.subplots(figsize=(12,3))\n",
    "plt.subplot(1, 1, 1)\n",
    "\n",
    "people = ('PlantBERT', 'DNABERT2')\n",
    "y_pos = np.arange(len(people))\n",
    "performance = [0.30,0.05]\n",
    "\n",
    "plt.barh(y_pos, performance, color=\"green\",width = 0.6)\n",
    "plt.yticks(y_pos, labels=people)\n",
    "plt.xlabel('<MASK> prediction accuracy')\n",
    "plt.suptitle('Comparing pre-trained models performance on plant genome data', y=1.05)\n",
    "plt.savefig('plot_pretrain_compare.png', dpi=200, bbox_inches='tight')\n",
    "plt.show()"
   ]
  },
  {
   "cell_type": "code",
   "execution_count": null,
   "id": "683a42fd-848a-4a75-bac0-b858e337276e",
   "metadata": {},
   "outputs": [],
   "source": []
  },
  {
   "cell_type": "code",
   "execution_count": null,
   "id": "9a9b568e-410b-4872-8173-ebe70979087d",
   "metadata": {},
   "outputs": [],
   "source": [
    "plt.subplots(figsize=(12,6)) # 6 for one row but 12 cause to row\n",
    "plt.subplot(1, 2, 1)\n",
    "plt.plot(df_clean[\"step\"],df_clean[\"acc\"], color=\"red\", label=\"accuracy\", linestyle=\"-\", marker=\"\", markersize=1.0, linewidth=1.0)\n",
    "plt.ylim(0, 0.35)\n",
    "plt.xlim(0,225000)\n",
    "\n",
    "plt.suptitle('Pre-training PlantBERT')\n",
    "plt.ylabel(\"Accuracy\")\n",
    "plt.xlabel(\"Steps\")\n",
    "plt.xticks([25000, 75000,125000,175000,225000])\n",
    "plt.legend(loc='upper left')\n",
    "plt.suptitle('Pre-training phase')\n",
    "plt.xlabel(\"Training steps\")\n",
    "\n",
    "plt.subplot(1, 2, 2)\n",
    "plt.plot(df2_clean[\"step\"],df2_clean[\"loss\"],color=\"blue\", label=\"loss\", linestyle=\"-\", marker=\"\", markersize=1.0, linewidth=1.0)\n",
    "plt.ylim(4, 8)\n",
    "plt.xlim(0,225000)\n",
    "plt.ylabel(\"Loss\")\n",
    "plt.xlabel(\"Training steps\")\n",
    "plt.xticks([25000, 75000,125000,175000,225000])\n",
    "plt.legend(loc='upper left')\n",
    "\n",
    "plt.savefig('plot_pretrain.png', dpi=200, bbox_inches='tight')\n",
    "plt.show()\n",
    "plt.close()"
   ]
  }
 ],
 "metadata": {
  "kernelspec": {
   "display_name": "Python 3 (ipykernel)",
   "language": "python",
   "name": "python3"
  },
  "language_info": {
   "codemirror_mode": {
    "name": "ipython",
    "version": 3
   },
   "file_extension": ".py",
   "mimetype": "text/x-python",
   "name": "python",
   "nbconvert_exporter": "python",
   "pygments_lexer": "ipython3",
   "version": "3.10.10"
  }
 },
 "nbformat": 4,
 "nbformat_minor": 5
}
